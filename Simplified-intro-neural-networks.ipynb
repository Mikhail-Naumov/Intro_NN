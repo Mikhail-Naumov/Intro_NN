{
 "cells": [
  {
   "cell_type": "code",
   "execution_count": 2,
   "metadata": {},
   "outputs": [],
   "source": [
    "import math\n",
    "import matplotlib.pyplot as plt\n",
    "%matplotlib inline"
   ]
  },
  {
   "cell_type": "markdown",
   "metadata": {},
   "source": [
    "# What are Neural Networks?\n",
    "### Warning 45 min is NOT enough time to explain Neural Networks. (It is barely enough time to talk about gradient descent)... but here goes\n",
    "\n",
    "Neural networks, in a single line, attempt to iteratively train a set (or sets) of weights that, when used together, return the most accurate predictions for a set of inputs. \n",
    "\n",
    "Neural networks do this by establishing sets of neurons (known as hidden layers) that take in some sort of input(s), apply a weight, and pass that output onward. As we feed more data into the network, it adjusts those weights based on the output of the loss function, until we have highly trained and specific weights.\n",
    "\n",
    "![](./images/neuralnet.png)"
   ]
  },
  {
   "cell_type": "markdown",
   "metadata": {},
   "source": [
    "## Mapping out a Network"
   ]
  },
  {
   "cell_type": "markdown",
   "metadata": {},
   "source": [
    "There are a lot of moving parts with Neural Networks. We'll be playing along with the very well known [Tensorflow Playground](http://playground.tensorflow.org/) as we talk about the structure of this neural networks. This website simulates a fairly small network in your browser and lets you tweak values and immediately realize their effects."
   ]
  },
  {
   "cell_type": "markdown",
   "metadata": {},
   "source": [
    "### Anatomy\n",
    "- Input Nodes (input layer): \n",
    "    - No computation is done here within this layer\n",
    "    - Simply passes the information to the next layer (hidden layer most of the time).\n",
    "<br><br>\n",
    "- Hidden nodes (hidden layer): \n",
    "    - Is where intermediate processing or computation is done, they perform computations and then transfer the weights (signals or information) from the input layer to the following layer (another hidden layer or to the output layer). \n",
    "    - It is possible to have a neural network without a hidden layer and I’ll come later to explain this.\n",
    "<br><br>\n",
    "- Output Nodes (output layer): \n",
    "    - Here we finally use an activation function that maps to the desired output format (e.g. softmax for classification).\n",
    "    \n",
    "<br><br>\n",
    "### Key Concepts\n",
    "- Connections and weights: \n",
    "    - The network consists of connections, each connection transferring the output of a neuron i to the input of a neuron j. In this sense i is the predecessor of j and j is the successor of i, Each connection is assigned a weight Wij.\n",
    "<br><br>\n",
    "- Activation function: \n",
    "    - the activation function of a node defines the output of that node given an input or set of inputs. A standard computer chip circuit can be seen as a digital network of activation functions that can be “ON” (1) or “OFF” (0), depending on input. This is similar to the behavior of the linear perceptron in neural networks. However, it is the nonlinear activation function that allows such networks to compute nontrivial problems using only a small number of nodes. In artificial neural networks this function is also called the transfer function.\n",
    "<br><br>\n",
    "- Learning rule: \n",
    "    - The learning rule is a rule or an algorithm which modifies the parameters of the neural network, in order for a given input to the network to produce a favored output. This learning process typically amounts to modifying the weights and thresholds.\n"
   ]
  },
  {
   "cell_type": "markdown",
   "metadata": {},
   "source": [
    "### What we know already"
   ]
  },
  {
   "cell_type": "markdown",
   "metadata": {},
   "source": [
    "#### Features (What the input layer take in)\n",
    "\n",
    "Much like our other machine learning techniques, we do need to feed data into the network. For these smaller examples, we won't worry too much about the shape of our data, but typically having data normalized to be on scale between 0 and 1 (or -1 and 1) can help the network find a solution faster than when it would otherwise.\n",
    "\n",
    "#### Outputs\n",
    "\n",
    "Much like other supervised techniques, we need an output at the end as well. In most cases:\n",
    "\n",
    "- for a regression style technique, one output is usually fine\n",
    "- for a classification technique, one output per class is a good idea"
   ]
  },
  {
   "cell_type": "markdown",
   "metadata": {},
   "source": [
    "### Old Concep\n",
    "\n",
    "#### Linear Regression\n",
    "\n",
    "<img src=\"https://cdn-images-1.medium.com/max/1600/1*_TqRJ9SmwFzRigJhMiN2uw.png\" width=\"400\">\n",
    "\n",
    "### New Concepts\n",
    "\n",
    "#### Neurons\n",
    "\n",
    "<img src=\"https://sebastianraschka.com/images/faq/logisticregr-neuralnet/schematic.png\" width=\"400\">\n"
   ]
  },
  {
   "cell_type": "markdown",
   "metadata": {},
   "source": [
    "A neural network (at its core) is built up of different neurons that are linked together. Each takes in either the original input features or some transformed version of them and puts out a value (or set of values). One neuron looks something akin to this:\n",
    "\n",
    "Each neuron is going to be the combination of the following:\n",
    "\n",
    "- A **bias** term (akin to a constant or $B_0$ term in a linear regression)\n",
    "- The input terms they've received, each multiplied by a **weight**\n",
    "\n",
    "If our model has one neuron, this looks suspiciously similar to a linear regression:\n",
    "\n",
    "1. take each term\n",
    "2. multiply it by a weight\n",
    "3. sum those new values together \n",
    "4. add an additional bias term\n",
    "\n",
    "That output should, as we train our neural network, get closer and closer to what the output is for that specific set of inputs ($x_1...x_n$). As we'll see, the way we train the network and the way we transform our outputs (plus the number of neurons) distinguishes neural networks from linear regression quite strongly."
   ]
  },
  {
   "cell_type": "markdown",
   "metadata": {},
   "source": [
    "### Hidden Layers\n",
    "\n",
    "What makes neural networks tick is the idea of *hidden layers*. Hidden does not mean anything particularly devious here, just that it is not the input or the output layer.\n",
    "\n",
    "Hidden layers can have:\n",
    "- any number of neurons per layer \n",
    "- can be of any number in your model**\n",
    "\n",
    "At each layer each neuron in that layer receives the same weight. However, each neuron is going to transform the data in a different way, based on how we assign or change the weights and bias in that neuron. \n",
    "\n",
    "![](./images/neuralnet.png)"
   ]
  },
  {
   "cell_type": "markdown",
   "metadata": {},
   "source": [
    "For the network above, we have two hidden layers and one output layer.\n",
    "\n",
    "- Hidden Layer 1\n",
    "    - 4 Neurons\n",
    "    - Each Neuron has 6 weights and 1 bias term\n",
    "    - Inputs: the original data\n",
    "    - Outputs: one number each\n",
    "- Hidden Layer 2\n",
    "    - 3 Neurons \n",
    "    - Each Neuron has 4 weights and 1 bias term\n",
    "    - Inputs: the four outputs from each Neuron in Hidden Layer 1\n",
    "    - Outputs: one number each\n",
    "- Output Layer\n",
    "    - 1 Neuron\n",
    "    - The one nNuron has 3 weights and 1 bias term\n",
    "    - Inputs: the three outputs from each Neuron in Hidden Layer 2\n",
    "    - Outputs: the final prediction"
   ]
  },
  {
   "cell_type": "markdown",
   "metadata": {},
   "source": [
    "### Check for Understanding 1 (3 Minutes)\n",
    "\n",
    "With a partner, answer the following about the network below:\n",
    "\n",
    "![](./images/percept.png)"
   ]
  },
  {
   "cell_type": "markdown",
   "metadata": {},
   "source": [
    "1. How many layers are in this network? Are they an input, output, or hidden layer? How many neurons are in each layer?\n",
    "2. For your hidden and output layers:\n",
    "    1. How many inputs does each neuron have?\n",
    "    2. How many outputs does each neuron have?"
   ]
  },
  {
   "cell_type": "code",
   "execution_count": null,
   "metadata": {},
   "outputs": [],
   "source": []
  },
  {
   "cell_type": "markdown",
   "metadata": {},
   "source": [
    "### Activation\n",
    "\n",
    "So how exactly does information/data propogate through the network?\n",
    "\n",
    "We can write the equation for the activation of the $j$th neuron in the $i$th layer as:\n",
    "\n",
    "### $$ a_j^i = \\sigma \\left( \\sum_k w_{jk}^i a_k^{i-1} + b_j^i \\right)$$\n",
    "\n",
    "There is a decent amount going on in this equation. We will examine the pieces.\n",
    "\n",
    "- $a_j^i$ represents the activation of the $j$th neuron in the $i$th layer. Note that the superscript corresponds to the layer number and the subscript corresponds to the neuron number within the layer.\n",
    "\n",
    "- $a_k^{i-1}$ is the activation of the $k$th neuron in the $i-1$th layer.\n",
    "\n",
    "- $\\sigma$ represents an \"activation function\". More on this later, but it is a function that can transform the activation of neurons. The simplest activation function is the linear activation, $f(x) = x$.\n",
    "\n",
    "- $w_{jk}^i$ represents the weight of the activation in the $k$th neuron in the $i-1$ layer to the $j$th neuron in the $i$th layer. So, $j$ is the destination neuron in the $i$ layer. $k$ is the departure neuron in the previous layer.\n",
    "\n",
    "- $b_j^i$ is the \"bias\" of the $j$th neuron in the $i$th layer. The bias adds a constant to the value of the activation.\n",
    "\n",
    "The gist of the equation is that each neuron is a sum of the weighted activations of neurons that feed into it plus a \"bias\" value, all fed through a final activation function.\n",
    "\n",
    "The formula becomes cleaner in matrix notation. Here is the vectorized version of the formula above:\n",
    "\n",
    "### $$ a^i = f(W^i a^{i-1} + b^i) $$\n",
    "\n",
    "Now there is a weight matrix $W^i$ for each layer $i$. The weight matrix defines the weightings on the previous layer neuron activations to the neurons of the current layer. \n",
    "\n",
    "![](./images/activation.png)\n",
    "\n",
    "Neurons also have an activation function that transforms the output in a certain way. Some common examples are:\n",
    "\n",
    "- [ReLU](https://en.wikipedia.org/wiki/Rectifier_(neural_networks): Also known as a Rectified Linear Unit, this turns the output to 0 if the output would be less than 0 (i.e., take the output and feed it through $f(y) = max(0, y)$). This means that the neuron is activated when its output is positive and not activated otherwise. This has the intuitive effect of turning a neuron \"on\" in certain cases and off in other cases.\n",
    "- [Softmax](https://en.wikipedia.org/wiki/Softmax_function): Used frequently at the output layer, this essentially \"squishes\" a bunch of inputs into a normalized scale of 0-1, which is great for creating something akin to a probability of falling into a given class. \n",
    "- [Sigmoid or Logistic](https://en.wikipedia.org/wiki/Logistic_function): Much like how we transformed the linear regression model to change the output to a zero or one through the use of a logistic or sigmoid function, we can do the same as an activation to squash the output to a scale between 0 and 1. \n",
    "\n",
    "There's a wealth of information on different types of activation functions within [this article](https://en.wikipedia.org/wiki/Activation_function) -- different activation functions, hidden layers, and neurons per layer can change how effective your neural network will be!\n",
    "\n",
    "Typically, we'll apply the weights in our neurons, add the bias and sum all terms, then pass that one value through the activation function, like this:"
   ]
  },
  {
   "cell_type": "markdown",
   "metadata": {
    "collapsed": true
   },
   "source": [
    "<img src=\"https://qph.fs.quoracdn.net/main-qimg-c30cd7a69de020b4f8581db3ba8f8508.webp\" width=\"600\">\n",
    "\n",
    "\n"
   ]
  },
  {
   "cell_type": "markdown",
   "metadata": {},
   "source": [
    "### Picking a Topology for your Network\n",
    "\n",
    "There's no hard and fast rule for how to pick a topology for your neural network. Much like hyperparameters in other machine learning models, we're going to use a combination of experience, research, and exploration to come up with a topology that best suits our unique problem. One good place to start out is to (if you have a smaller set of input features) is a network with:\n",
    "\n",
    "1. The input layer\n",
    "2. One hidden layer with a number of neurons equal to the number of inputs\n",
    "3. One output layer with the appropriate activation function (softmax if you have a classification problem, no activation (or what's known as the identity function ($f(x) = x$) if you have a regression problem\n",
    "\n",
    "See also: [the \"zoo\" neural nets](http://www.asimovinstitute.org/neural-network-zoo/)\n",
    "\n",
    "### Single Layer and Multilayer Perceptrons (SLP and MLP)\n",
    "\n",
    "The types of neural networks that we have discussed so far are known as perceptrons. A single layer perceptron **has no hidden layers** and is just a function of the inputs, weights, a bias term, and an activation function:\n",
    "\n",
    "![](./images/slp.png)\n",
    "\n",
    "Multilayer perceptrons (MLP) have 1 or more hidden layers in addition to their input and output layers. While SLPs are easiest to consider in an abstract sense, MLPs tend to be much more accurate and useful in practice. "
   ]
  },
  {
   "cell_type": "markdown",
   "metadata": {},
   "source": [
    "## Training your network (We may need to brush over)\n",
    "\n",
    "So far, we haven't discussed how a neural network assigns the \"right\" weights to each of its neurons. You could imagine a neural network with very bad weights that predicted poorly or, in some cases, completely counter to what it should. How do we train our network to have the right weights?\n",
    "\n",
    "Training our network to have the right weights relies on a couple of topics:\n",
    "\n",
    "1. A loss function that we are trying to optimize the values for\n",
    "2. The concept of forward and backward propogation \n",
    "3. Gradient Descent and a Learning Rate to make iterative changes to the weights"
   ]
  },
  {
   "cell_type": "markdown",
   "metadata": {},
   "source": [
    "### Loss Functions\n",
    "\n",
    "We have encountered [loss functions](https://en.wikipedia.org/wiki/Loss_function) many times before -- they are functions that take in the actual values for the output and what our model predicts those values to be and gives us a value that we are trying to minimize with our model. Examples include:\n",
    "\n",
    "##### Regression: Sum of Squared Errors\n",
    "\n",
    "$$\\sum(y_i - \\hat{y}_i)^2$$\n",
    "\n",
    "##### Classification: Mean accuracy \n",
    "\n",
    "$$\\frac{n_{\\text{classified correctly}}}{n_{\\text{total}}}$$\n",
    "\n",
    "We're going to use loss functions in this context to tell us how well or how poorly our Neural Network is doing at that point."
   ]
  },
  {
   "cell_type": "markdown",
   "metadata": {},
   "source": [
    "### Forward and Backpropagation \n",
    "\n",
    "When we train our neural network, **we send our data multiple times through the network and tweak the weights each time**. This is an iterative process using forward and backpropagation.\n"
   ]
  },
  {
   "cell_type": "markdown",
   "metadata": {},
   "source": [
    "#### Forward Propagation\n",
    "\n",
    "Forward Propagation is straightforward -- either in batches or as individual observations, pass the training data through the network, applying all the weights, biases, and activation functions as usual. At this point, you should have actual and predicted values.\n",
    "\n",
    "#### Backpropagation\n",
    "\n",
    "What we want to do here is:\n",
    "\n",
    "1. See how far off we were from the truth using the loss function\n",
    "2. Identify which weights in our network are most responsible for how far we are off\n",
    "3. Change all of the weights to make our model more accurate, changing the weights that are \"the worst\" the most\n",
    "\n",
    "This is known as **Backpropagation** -- we are taking the errors we see in our model (as it stands currently) and are distributing them backwards to the rest of the layers. \n",
    "\n",
    "What we'll do is train our data in a number of full passes known as **epochs**. As modelers, we'll choose a number of epochs to train our model, essentially choosing a value to stop where we see no additional change in the accuracy of our models. "
   ]
  },
  {
   "cell_type": "markdown",
   "metadata": {},
   "source": [
    "#### Changing Weights (the Curse of Dimensionality) \n",
    "\n",
    "One question that you may have is \"Why don't we just try all of the weights and decisively find the best one?\" The problem here (which is often known as the curse of dimensionality) is that we have _so many different weights_ to try out (and so many different sets of values to exhaustively attempt) that it's impractical to try all of them. More than being impractical, for larger models with many weights and many possible values, we may still be estimating the \"best\" weights long past the [heat death of the universe](https://en.wikipedia.org/wiki/Heat_death_of_the_universe). \n",
    "\n",
    "#### **Estimating** the Weights \n",
    "\n",
    "What we'll do instead is use gradient descent to help us figure out what direction to tweak our weights. We've discussed gradient descent before, but as a quick primer: \n",
    "\n",
    "> Gradient Descent is an optimization technique to help us find the lowest point (global minima) of a function. The derivative (the rate of change in the function for a small change in the inputs) of a function at a given point tells which direction we would like to change our weights. We'll make changes of a certain size in the right direction until we hit a place where the derivative is zero (i.e., either direction will increase the output of the function) and will consider that our \"best\" place. \n",
    "\n",
    "- **Learning Rate**: The size of the change we make on each pass -- bigger learning rates mean we'll move faster, but may skip over places where there is actually a global minima\n",
    "- **Epoch**: The number of times we pass our data through the fitting process\n",
    "\n",
    "![](./images/gradient.png)\n",
    "<img src=\"https://www.cs.toronto.edu/~frossard/post/linear_regression/sgd.gif\" width=\"500\"><br><br>\n",
    "<img src=\"https://media.giphy.com/media/O9rcZVmRcEGqI/giphy.gif\" width=\"600\">\n",
    "\n",
    "For our purposes, the function we're trying to optimize is the loss function from above -- we want the value of that function to be as low as possible. Our loss function is a function of all of the weights in our network. What we'll do in an abstract sense is:\n",
    "\n",
    "1. Take the partial derivative (in other words, changing one weight and not all) of our loss function with respect to each weight in our model\n",
    "2. Based on that derivative, change the weights up or down\n",
    "\n",
    "The actual process is somewhat more complicated than that (see below), but the takeaway is backpropagation **looks at how badly we did on each pass, moves those errors back up the model, and then uses gradient descent to change the weight over a series of iterations**.\n",
    "\n",
    "![](./images/backprop.jpg)\n",
    "<img src=\"https://thumbs.gfycat.com/UnsteadyUnkemptKangaroo-size_restricted.gif\" width=\"600\">\n",
    "\n",
    "\n",
    "##### The Vanishing Gradient Problem\n",
    "\n",
    "One thing to keep in mind (and a good reason to not create networks that are very, very deep) is a phenomenon known as the Vanishing Gradient Problem. For networks with lots of hidden layers, earlier layers train at a much slower rate than layers closer to the output (the gradient \"vanishes\" as it gets deeper into the network, so the weights cannot change as much). That means that it can take a much longer time to train a deeper network without much increase in accuracy. "
   ]
  },
  {
   "cell_type": "markdown",
   "metadata": {},
   "source": [
    "### Tackling Overfitting\n",
    "\n",
    "Do neural networks overfit? Yes, very much so. There are many weights to optimize and we can very quickly reach a point where the weights in each neuron are overfit to our training data (and therefore are limited in how well they predict new data).\n",
    "\n",
    "#### Regularization\n",
    "\n",
    "Just like with linear models earlier in this course, we can also do regularization to make sure our weights are more generalizable. Because we're using our loss function to determine how we should change our weights, if we penalize the loss function to avoid larger weights, we will see the same behavior as we did with linear models -- weights will be large or impactful only if they contribute sufficiently to how well the model fits as a whole. \n",
    "\n",
    "#### Dropout\n",
    "\n",
    "We can also use something known as dropout to tackle overfitting. Dropout will turn off a random percentage of neurons in each pass (user-defined). This prevents each layer from fitting too strongly to a given input and therefore wards off overfitting. \n",
    "\n",
    "![](./images/dropout.png)"
   ]
  },
  {
   "cell_type": "markdown",
   "metadata": {},
   "source": [
    "### Check for Understanding 3 (10 Minutes)\n",
    "\n",
    "In pairs, use the [Tensorflow Playground](http://playground.tensorflow.org/) with the following settings:\n",
    "\n",
    "![](./images/settings.png)\n",
    "\n",
    "> make sure that you're using a classification problem (upper right corner as well!)\n",
    "\n",
    "1. In your own words, define the following and forecast what changing each of them will do to your model?\n",
    "    1. Learning Rate\n",
    "    2. Activation Function\n",
    "    3. Regularization and Regularization Rate\n",
    "2. Work together with the settings established above to create a (mini!) neural network that best predicts test data. Feel free to try any (or all!) of the inputs, any number of neurons, hidden layers, learning rates, regularization parameters, and activation functions. A good place to start is the following:\n",
    "\n",
    "![](./images/starting.png)\n",
    "\n",
    "We'll share our results in Slack after 10 minutes. Include your test loss on the thread. We'll ask the pair with the best score to share their settings for the best possible network. "
   ]
  },
  {
   "cell_type": "code",
   "execution_count": null,
   "metadata": {},
   "outputs": [],
   "source": []
  },
  {
   "cell_type": "markdown",
   "metadata": {},
   "source": [
    "### Playing with Simple Neural Networks"
   ]
  },
  {
   "cell_type": "code",
   "execution_count": 3,
   "metadata": {},
   "outputs": [],
   "source": [
    "from sklearn.datasets import load_iris"
   ]
  },
  {
   "cell_type": "code",
   "execution_count": 4,
   "metadata": {},
   "outputs": [],
   "source": [
    "iris = load_iris()"
   ]
  },
  {
   "cell_type": "code",
   "execution_count": 5,
   "metadata": {},
   "outputs": [],
   "source": [
    "X = iris.data\n",
    "y = iris.target"
   ]
  },
  {
   "cell_type": "code",
   "execution_count": 6,
   "metadata": {},
   "outputs": [
    {
     "data": {
      "text/plain": [
       "array([[5.1, 3.5, 1.4, 0.2],\n",
       "       [4.9, 3. , 1.4, 0.2],\n",
       "       [4.7, 3.2, 1.3, 0.2],\n",
       "       [4.6, 3.1, 1.5, 0.2],\n",
       "       [5. , 3.6, 1.4, 0.2],\n",
       "       [5.4, 3.9, 1.7, 0.4],\n",
       "       [4.6, 3.4, 1.4, 0.3],\n",
       "       [5. , 3.4, 1.5, 0.2],\n",
       "       [4.4, 2.9, 1.4, 0.2],\n",
       "       [4.9, 3.1, 1.5, 0.1]])"
      ]
     },
     "execution_count": 6,
     "metadata": {},
     "output_type": "execute_result"
    }
   ],
   "source": [
    "X[:10]"
   ]
  },
  {
   "cell_type": "code",
   "execution_count": 7,
   "metadata": {},
   "outputs": [
    {
     "data": {
      "text/plain": [
       "array([0, 0, 0, 0, 0, 0, 0, 0, 0, 0])"
      ]
     },
     "execution_count": 7,
     "metadata": {},
     "output_type": "execute_result"
    }
   ],
   "source": [
    "y[:10]"
   ]
  },
  {
   "cell_type": "code",
   "execution_count": null,
   "metadata": {},
   "outputs": [],
   "source": []
  },
  {
   "cell_type": "code",
   "execution_count": 8,
   "metadata": {},
   "outputs": [],
   "source": [
    "from sklearn.model_selection import train_test_split"
   ]
  },
  {
   "cell_type": "code",
   "execution_count": 9,
   "metadata": {},
   "outputs": [],
   "source": [
    "X_train, X_test, y_train, y_test = train_test_split(X, y, test_size=.2, random_state=42)"
   ]
  },
  {
   "cell_type": "code",
   "execution_count": 10,
   "metadata": {},
   "outputs": [
    {
     "name": "stdout",
     "output_type": "stream",
     "text": [
      "Training on 120 samples, testing on 30 samples\n"
     ]
    }
   ],
   "source": [
    "print(\"Training on {} samples, testing on {} samples\".format(len(X_train),len(X_test)))"
   ]
  },
  {
   "cell_type": "code",
   "execution_count": null,
   "metadata": {},
   "outputs": [],
   "source": []
  },
  {
   "cell_type": "code",
   "execution_count": 11,
   "metadata": {},
   "outputs": [],
   "source": [
    "#one hot encoding target"
   ]
  },
  {
   "cell_type": "code",
   "execution_count": 12,
   "metadata": {},
   "outputs": [
    {
     "name": "stderr",
     "output_type": "stream",
     "text": [
      "C:\\Users\\Namae\\AppData\\Local\\Continuum\\anaconda3\\lib\\site-packages\\h5py\\__init__.py:36: FutureWarning: Conversion of the second argument of issubdtype from `float` to `np.floating` is deprecated. In future, it will be treated as `np.float64 == np.dtype(float).type`.\n",
      "  from ._conv import register_converters as _register_converters\n",
      "Using TensorFlow backend.\n"
     ]
    }
   ],
   "source": [
    "from keras.utils import np_utils\n",
    "y_train_cat = np_utils.to_categorical(y_train, 3)\n",
    "y_test_cat = np_utils.to_categorical(y_test, 3)"
   ]
  },
  {
   "cell_type": "code",
   "execution_count": 13,
   "metadata": {},
   "outputs": [
    {
     "data": {
      "text/plain": [
       "array([1, 0, 2, 1, 1, 0, 1, 2, 1, 1, 2, 0, 0, 0, 0, 1, 2, 1, 1, 2, 0, 2,\n",
       "       0, 2, 2, 2, 2, 2, 0, 0])"
      ]
     },
     "execution_count": 13,
     "metadata": {},
     "output_type": "execute_result"
    }
   ],
   "source": [
    "y_test"
   ]
  },
  {
   "cell_type": "code",
   "execution_count": 14,
   "metadata": {},
   "outputs": [
    {
     "data": {
      "text/plain": [
       "array([[0., 1., 0.],\n",
       "       [1., 0., 0.],\n",
       "       [0., 0., 1.],\n",
       "       [0., 1., 0.],\n",
       "       [0., 1., 0.],\n",
       "       [1., 0., 0.],\n",
       "       [0., 1., 0.],\n",
       "       [0., 0., 1.],\n",
       "       [0., 1., 0.],\n",
       "       [0., 1., 0.],\n",
       "       [0., 0., 1.],\n",
       "       [1., 0., 0.],\n",
       "       [1., 0., 0.],\n",
       "       [1., 0., 0.],\n",
       "       [1., 0., 0.],\n",
       "       [0., 1., 0.],\n",
       "       [0., 0., 1.],\n",
       "       [0., 1., 0.],\n",
       "       [0., 1., 0.],\n",
       "       [0., 0., 1.],\n",
       "       [1., 0., 0.],\n",
       "       [0., 0., 1.],\n",
       "       [1., 0., 0.],\n",
       "       [0., 0., 1.],\n",
       "       [0., 0., 1.],\n",
       "       [0., 0., 1.],\n",
       "       [0., 0., 1.],\n",
       "       [0., 0., 1.],\n",
       "       [1., 0., 0.],\n",
       "       [1., 0., 0.]], dtype=float32)"
      ]
     },
     "execution_count": 14,
     "metadata": {},
     "output_type": "execute_result"
    }
   ],
   "source": [
    "y_test_cat"
   ]
  },
  {
   "cell_type": "code",
   "execution_count": null,
   "metadata": {},
   "outputs": [],
   "source": []
  },
  {
   "cell_type": "code",
   "execution_count": 15,
   "metadata": {},
   "outputs": [],
   "source": [
    "#import\n",
    "import keras\n",
    "from keras import regularizers, optimizers\n",
    "from keras.models import Sequential\n",
    "from keras.layers import Dense, Dropout, Activation\n",
    "from keras.callbacks import EarlyStopping"
   ]
  },
  {
   "cell_type": "code",
   "execution_count": null,
   "metadata": {},
   "outputs": [],
   "source": []
  },
  {
   "cell_type": "code",
   "execution_count": 18,
   "metadata": {},
   "outputs": [
    {
     "name": "stdout",
     "output_type": "stream",
     "text": [
      "Train on 120 samples, validate on 30 samples\n",
      "Epoch 1/120\n",
      "120/120 [==============================] - 0s 2ms/step - loss: 1.9814 - acc: 0.4583 - val_loss: 0.6276 - val_acc: 0.6333\n",
      "Epoch 2/120\n",
      "120/120 [==============================] - 0s 75us/step - loss: 0.7006 - acc: 0.6750 - val_loss: 0.6864 - val_acc: 0.6333\n",
      "Epoch 3/120\n",
      "120/120 [==============================] - 0s 67us/step - loss: 0.4456 - acc: 0.8417 - val_loss: 0.3162 - val_acc: 0.8000\n",
      "Epoch 4/120\n",
      "120/120 [==============================] - 0s 75us/step - loss: 0.2688 - acc: 0.9333 - val_loss: 0.1969 - val_acc: 0.9333\n",
      "Epoch 5/120\n",
      "120/120 [==============================] - 0s 117us/step - loss: 0.2365 - acc: 0.8917 - val_loss: 0.2787 - val_acc: 0.8000\n",
      "Epoch 6/120\n",
      "120/120 [==============================] - 0s 67us/step - loss: 0.1985 - acc: 0.9083 - val_loss: 0.1538 - val_acc: 0.9667\n",
      "Epoch 7/120\n",
      "120/120 [==============================] - 0s 75us/step - loss: 0.0968 - acc: 0.9750 - val_loss: 0.1216 - val_acc: 0.9333\n",
      "Epoch 8/120\n",
      "120/120 [==============================] - 0s 67us/step - loss: 0.0831 - acc: 0.9667 - val_loss: 0.1400 - val_acc: 0.9667\n",
      "Epoch 9/120\n",
      "120/120 [==============================] - 0s 67us/step - loss: 0.1116 - acc: 0.9667 - val_loss: 0.0779 - val_acc: 0.9667\n",
      "Epoch 10/120\n",
      "120/120 [==============================] - 0s 67us/step - loss: 0.1483 - acc: 0.9500 - val_loss: 0.0753 - val_acc: 0.9667\n",
      "Epoch 11/120\n",
      "120/120 [==============================] - 0s 75us/step - loss: 0.0785 - acc: 0.9750 - val_loss: 0.1659 - val_acc: 0.9667\n",
      "Epoch 12/120\n",
      "120/120 [==============================] - 0s 75us/step - loss: 0.1391 - acc: 0.9333 - val_loss: 0.3923 - val_acc: 0.8000\n",
      "Epoch 13/120\n",
      "120/120 [==============================] - 0s 67us/step - loss: 0.3522 - acc: 0.8750 - val_loss: 0.3911 - val_acc: 0.8000\n",
      "Epoch 14/120\n",
      "120/120 [==============================] - 0s 67us/step - loss: 0.2204 - acc: 0.8917 - val_loss: 0.1163 - val_acc: 0.9667\n",
      "Epoch 15/120\n",
      "120/120 [==============================] - 0s 67us/step - loss: 0.2246 - acc: 0.9333 - val_loss: 0.0765 - val_acc: 1.0000\n",
      "Epoch 16/120\n",
      "120/120 [==============================] - 0s 67us/step - loss: 0.1989 - acc: 0.9083 - val_loss: 0.2506 - val_acc: 0.8667\n",
      "Epoch 17/120\n",
      "120/120 [==============================] - 0s 67us/step - loss: 0.1583 - acc: 0.9417 - val_loss: 0.1323 - val_acc: 0.9000\n",
      "Epoch 18/120\n",
      "120/120 [==============================] - 0s 83us/step - loss: 0.0641 - acc: 0.9833 - val_loss: 0.0944 - val_acc: 0.9667\n",
      "Epoch 19/120\n",
      "120/120 [==============================] - 0s 67us/step - loss: 0.0873 - acc: 0.9750 - val_loss: 0.1275 - val_acc: 0.9000\n",
      "Epoch 20/120\n",
      "120/120 [==============================] - 0s 83us/step - loss: 0.0790 - acc: 0.9833 - val_loss: 0.0587 - val_acc: 1.0000\n",
      "Epoch 21/120\n",
      "120/120 [==============================] - 0s 75us/step - loss: 0.0965 - acc: 0.9583 - val_loss: 0.1752 - val_acc: 0.9667\n",
      "Epoch 22/120\n",
      "120/120 [==============================] - 0s 67us/step - loss: 0.1477 - acc: 0.9417 - val_loss: 0.1142 - val_acc: 0.9667\n",
      "Epoch 23/120\n",
      "120/120 [==============================] - 0s 75us/step - loss: 0.1294 - acc: 0.9500 - val_loss: 0.0778 - val_acc: 1.0000\n",
      "Epoch 24/120\n",
      "120/120 [==============================] - 0s 58us/step - loss: 0.1027 - acc: 0.9750 - val_loss: 0.1404 - val_acc: 0.9000\n",
      "Epoch 25/120\n",
      "120/120 [==============================] - 0s 75us/step - loss: 0.0844 - acc: 0.9583 - val_loss: 0.0532 - val_acc: 0.9667\n",
      "Epoch 26/120\n",
      "120/120 [==============================] - 0s 67us/step - loss: 0.0931 - acc: 0.9417 - val_loss: 0.1363 - val_acc: 0.9667\n",
      "Epoch 27/120\n",
      "120/120 [==============================] - 0s 75us/step - loss: 0.0910 - acc: 0.9583 - val_loss: 0.1448 - val_acc: 0.9000\n",
      "Epoch 28/120\n",
      "120/120 [==============================] - 0s 67us/step - loss: 0.0917 - acc: 0.9583 - val_loss: 0.0561 - val_acc: 0.9667\n",
      "Epoch 29/120\n",
      "120/120 [==============================] - 0s 75us/step - loss: 0.0643 - acc: 0.9750 - val_loss: 0.0570 - val_acc: 1.0000\n",
      "Epoch 30/120\n",
      "120/120 [==============================] - 0s 67us/step - loss: 0.0635 - acc: 0.9667 - val_loss: 0.0523 - val_acc: 0.9667\n",
      "Epoch 31/120\n",
      "120/120 [==============================] - 0s 67us/step - loss: 0.1133 - acc: 0.9500 - val_loss: 0.0777 - val_acc: 0.9667\n",
      "Epoch 32/120\n",
      "120/120 [==============================] - 0s 83us/step - loss: 0.1014 - acc: 0.9583 - val_loss: 0.0574 - val_acc: 1.0000\n",
      "Epoch 33/120\n",
      "120/120 [==============================] - 0s 58us/step - loss: 0.0609 - acc: 0.9833 - val_loss: 0.0571 - val_acc: 1.0000\n",
      "Epoch 34/120\n",
      "120/120 [==============================] - 0s 67us/step - loss: 0.0760 - acc: 0.9667 - val_loss: 0.1491 - val_acc: 0.9000\n",
      "Epoch 35/120\n",
      "120/120 [==============================] - 0s 75us/step - loss: 0.1194 - acc: 0.9333 - val_loss: 0.0810 - val_acc: 0.9667\n",
      "Epoch 36/120\n",
      "120/120 [==============================] - 0s 67us/step - loss: 0.2712 - acc: 0.9083 - val_loss: 0.5550 - val_acc: 0.8000\n",
      "Epoch 37/120\n",
      "120/120 [==============================] - 0s 58us/step - loss: 0.1999 - acc: 0.9083 - val_loss: 0.1382 - val_acc: 0.9000\n",
      "Epoch 38/120\n",
      "120/120 [==============================] - 0s 67us/step - loss: 0.1991 - acc: 0.9250 - val_loss: 0.1114 - val_acc: 1.0000\n",
      "Epoch 39/120\n",
      "120/120 [==============================] - 0s 67us/step - loss: 0.1546 - acc: 0.9417 - val_loss: 0.1302 - val_acc: 0.9667\n",
      "Epoch 40/120\n",
      "120/120 [==============================] - 0s 75us/step - loss: 0.0910 - acc: 0.9667 - val_loss: 0.1792 - val_acc: 0.9000\n",
      "Epoch 41/120\n",
      "120/120 [==============================] - 0s 67us/step - loss: 0.1184 - acc: 0.9667 - val_loss: 0.0527 - val_acc: 0.9667\n",
      "Epoch 42/120\n",
      "120/120 [==============================] - 0s 67us/step - loss: 0.0736 - acc: 0.9833 - val_loss: 0.0564 - val_acc: 0.9667\n",
      "Epoch 43/120\n",
      "120/120 [==============================] - 0s 75us/step - loss: 0.0744 - acc: 0.9750 - val_loss: 0.0584 - val_acc: 1.0000\n",
      "Epoch 44/120\n",
      "120/120 [==============================] - 0s 67us/step - loss: 0.0692 - acc: 0.9750 - val_loss: 0.1127 - val_acc: 0.9667\n",
      "Epoch 45/120\n",
      "120/120 [==============================] - 0s 58us/step - loss: 0.1156 - acc: 0.9500 - val_loss: 0.1470 - val_acc: 0.9000\n",
      "Epoch 46/120\n",
      "120/120 [==============================] - 0s 75us/step - loss: 0.1249 - acc: 0.9667 - val_loss: 0.1141 - val_acc: 0.9667\n",
      "Epoch 47/120\n",
      "120/120 [==============================] - 0s 67us/step - loss: 0.0933 - acc: 0.9667 - val_loss: 0.0707 - val_acc: 1.0000\n",
      "Epoch 48/120\n",
      "120/120 [==============================] - 0s 67us/step - loss: 0.0662 - acc: 0.9667 - val_loss: 0.0969 - val_acc: 0.9667\n",
      "Epoch 49/120\n",
      "120/120 [==============================] - 0s 75us/step - loss: 0.1208 - acc: 0.9417 - val_loss: 0.0848 - val_acc: 0.9667\n",
      "Epoch 50/120\n",
      "120/120 [==============================] - 0s 67us/step - loss: 0.1400 - acc: 0.9500 - val_loss: 0.1483 - val_acc: 0.9000\n",
      "Epoch 51/120\n",
      "120/120 [==============================] - 0s 67us/step - loss: 0.2337 - acc: 0.9167 - val_loss: 0.0959 - val_acc: 0.9667\n",
      "Epoch 52/120\n",
      "120/120 [==============================] - 0s 67us/step - loss: 0.2756 - acc: 0.8500 - val_loss: 0.0842 - val_acc: 0.9667\n",
      "Epoch 53/120\n",
      "120/120 [==============================] - 0s 67us/step - loss: 0.0805 - acc: 0.9750 - val_loss: 0.0528 - val_acc: 1.0000\n",
      "Epoch 54/120\n",
      "120/120 [==============================] - 0s 67us/step - loss: 0.0956 - acc: 0.9833 - val_loss: 0.1951 - val_acc: 0.9000\n",
      "Epoch 55/120\n",
      "120/120 [==============================] - 0s 75us/step - loss: 0.1955 - acc: 0.9250 - val_loss: 0.4904 - val_acc: 0.8000\n",
      "Epoch 56/120\n",
      "120/120 [==============================] - 0s 67us/step - loss: 0.2096 - acc: 0.9167 - val_loss: 0.0736 - val_acc: 0.9667\n",
      "Epoch 57/120\n",
      "120/120 [==============================] - 0s 58us/step - loss: 0.1513 - acc: 0.9583 - val_loss: 0.2038 - val_acc: 0.9000\n",
      "Epoch 58/120\n",
      "120/120 [==============================] - 0s 75us/step - loss: 0.0909 - acc: 0.9667 - val_loss: 0.0499 - val_acc: 0.9667\n",
      "Epoch 59/120\n",
      "120/120 [==============================] - 0s 58us/step - loss: 0.0516 - acc: 0.9750 - val_loss: 0.1706 - val_acc: 0.9000\n",
      "Epoch 60/120\n",
      "120/120 [==============================] - 0s 67us/step - loss: 0.1040 - acc: 0.9583 - val_loss: 0.0538 - val_acc: 0.9667\n",
      "Epoch 61/120\n"
     ]
    },
    {
     "name": "stdout",
     "output_type": "stream",
     "text": [
      "120/120 [==============================] - 0s 67us/step - loss: 0.0918 - acc: 0.9500 - val_loss: 0.0848 - val_acc: 0.9667\n",
      "Epoch 62/120\n",
      "120/120 [==============================] - 0s 67us/step - loss: 0.1546 - acc: 0.9417 - val_loss: 0.0545 - val_acc: 1.0000\n",
      "Epoch 63/120\n",
      "120/120 [==============================] - 0s 75us/step - loss: 0.0900 - acc: 0.9750 - val_loss: 0.0518 - val_acc: 0.9667\n",
      "Epoch 64/120\n",
      "120/120 [==============================] - 0s 67us/step - loss: 0.1018 - acc: 0.9667 - val_loss: 0.0589 - val_acc: 0.9667\n",
      "Epoch 65/120\n",
      "120/120 [==============================] - 0s 75us/step - loss: 0.1866 - acc: 0.9333 - val_loss: 0.1031 - val_acc: 0.9667\n",
      "Epoch 66/120\n",
      "120/120 [==============================] - 0s 75us/step - loss: 0.1274 - acc: 0.9500 - val_loss: 0.0989 - val_acc: 0.9667\n",
      "Epoch 67/120\n",
      "120/120 [==============================] - 0s 75us/step - loss: 0.1116 - acc: 0.9667 - val_loss: 0.0594 - val_acc: 1.0000\n",
      "Epoch 68/120\n",
      "120/120 [==============================] - 0s 67us/step - loss: 0.0727 - acc: 0.9667 - val_loss: 0.0993 - val_acc: 0.9000\n",
      "Epoch 69/120\n",
      "120/120 [==============================] - 0s 67us/step - loss: 0.1306 - acc: 0.9333 - val_loss: 0.0640 - val_acc: 0.9667\n",
      "Epoch 70/120\n",
      "120/120 [==============================] - 0s 58us/step - loss: 0.1834 - acc: 0.9500 - val_loss: 0.2196 - val_acc: 0.9333\n",
      "Epoch 71/120\n",
      "120/120 [==============================] - 0s 67us/step - loss: 0.2410 - acc: 0.9167 - val_loss: 0.3871 - val_acc: 0.8667\n",
      "Epoch 72/120\n",
      "120/120 [==============================] - 0s 58us/step - loss: 0.2880 - acc: 0.9083 - val_loss: 0.2369 - val_acc: 0.8333\n",
      "Epoch 73/120\n",
      "120/120 [==============================] - 0s 58us/step - loss: 0.1809 - acc: 0.9250 - val_loss: 0.0943 - val_acc: 1.0000\n",
      "Epoch 74/120\n",
      "120/120 [==============================] - 0s 67us/step - loss: 0.0833 - acc: 0.9833 - val_loss: 0.0508 - val_acc: 0.9667\n",
      "Epoch 75/120\n",
      "120/120 [==============================] - 0s 58us/step - loss: 0.0692 - acc: 0.9667 - val_loss: 0.0499 - val_acc: 0.9667\n",
      "Epoch 76/120\n",
      "120/120 [==============================] - 0s 67us/step - loss: 0.1045 - acc: 0.9500 - val_loss: 0.1981 - val_acc: 0.9667\n",
      "Epoch 77/120\n",
      "120/120 [==============================] - 0s 75us/step - loss: 0.1293 - acc: 0.9500 - val_loss: 0.0489 - val_acc: 0.9667\n",
      "Epoch 78/120\n",
      "120/120 [==============================] - 0s 67us/step - loss: 0.1134 - acc: 0.9750 - val_loss: 0.0614 - val_acc: 1.0000\n",
      "Epoch 79/120\n",
      "120/120 [==============================] - 0s 67us/step - loss: 0.1140 - acc: 0.9417 - val_loss: 0.1476 - val_acc: 0.9667\n",
      "Epoch 80/120\n",
      "120/120 [==============================] - 0s 67us/step - loss: 0.1528 - acc: 0.9417 - val_loss: 0.1875 - val_acc: 0.9000\n",
      "Epoch 81/120\n",
      "120/120 [==============================] - 0s 58us/step - loss: 0.1362 - acc: 0.9583 - val_loss: 0.1317 - val_acc: 0.9667\n",
      "Epoch 82/120\n",
      "120/120 [==============================] - 0s 67us/step - loss: 0.1003 - acc: 0.9667 - val_loss: 0.1757 - val_acc: 0.9000\n",
      "Epoch 83/120\n",
      "120/120 [==============================] - 0s 67us/step - loss: 0.1256 - acc: 0.9500 - val_loss: 0.0802 - val_acc: 0.9667\n",
      "Epoch 84/120\n",
      "120/120 [==============================] - 0s 67us/step - loss: 0.0681 - acc: 0.9833 - val_loss: 0.1001 - val_acc: 0.9333\n",
      "Epoch 85/120\n",
      "120/120 [==============================] - 0s 67us/step - loss: 0.0721 - acc: 0.9667 - val_loss: 0.0854 - val_acc: 0.9667\n",
      "Epoch 86/120\n",
      "120/120 [==============================] - 0s 58us/step - loss: 0.1008 - acc: 0.9583 - val_loss: 0.1407 - val_acc: 0.9000\n",
      "Epoch 87/120\n",
      "120/120 [==============================] - 0s 67us/step - loss: 0.0813 - acc: 0.9667 - val_loss: 0.1563 - val_acc: 0.9667\n",
      "Epoch 88/120\n",
      "120/120 [==============================] - 0s 75us/step - loss: 0.1036 - acc: 0.9583 - val_loss: 0.2757 - val_acc: 0.9000\n",
      "Epoch 89/120\n",
      "120/120 [==============================] - 0s 67us/step - loss: 0.1079 - acc: 0.9667 - val_loss: 0.1206 - val_acc: 0.9667\n",
      "Epoch 90/120\n",
      "120/120 [==============================] - 0s 67us/step - loss: 0.1420 - acc: 0.9500 - val_loss: 0.0933 - val_acc: 1.0000\n",
      "Epoch 91/120\n",
      "120/120 [==============================] - 0s 67us/step - loss: 0.0866 - acc: 0.9833 - val_loss: 0.0500 - val_acc: 0.9667\n",
      "Epoch 92/120\n",
      "120/120 [==============================] - 0s 67us/step - loss: 0.0595 - acc: 0.9750 - val_loss: 0.0671 - val_acc: 0.9667\n",
      "Epoch 93/120\n",
      "120/120 [==============================] - 0s 58us/step - loss: 0.0916 - acc: 0.9583 - val_loss: 0.0529 - val_acc: 0.9667\n",
      "Epoch 94/120\n",
      "120/120 [==============================] - 0s 67us/step - loss: 0.1074 - acc: 0.9667 - val_loss: 0.0520 - val_acc: 0.9667\n",
      "Epoch 95/120\n",
      "120/120 [==============================] - 0s 75us/step - loss: 0.0751 - acc: 0.9750 - val_loss: 0.0493 - val_acc: 0.9667\n",
      "Epoch 96/120\n",
      "120/120 [==============================] - 0s 67us/step - loss: 0.0925 - acc: 0.9667 - val_loss: 0.1123 - val_acc: 0.9000\n",
      "Epoch 97/120\n",
      "120/120 [==============================] - 0s 58us/step - loss: 0.0750 - acc: 0.9750 - val_loss: 0.0649 - val_acc: 0.9667\n",
      "Epoch 98/120\n",
      "120/120 [==============================] - 0s 67us/step - loss: 0.0740 - acc: 0.9583 - val_loss: 0.1173 - val_acc: 0.9000\n",
      "Epoch 99/120\n",
      "120/120 [==============================] - 0s 67us/step - loss: 0.0999 - acc: 0.9500 - val_loss: 0.0548 - val_acc: 0.9667\n",
      "Epoch 100/120\n",
      "120/120 [==============================] - 0s 67us/step - loss: 0.0746 - acc: 0.9667 - val_loss: 0.0587 - val_acc: 0.9667\n",
      "Epoch 101/120\n",
      "120/120 [==============================] - 0s 67us/step - loss: 0.0723 - acc: 0.9750 - val_loss: 0.0668 - val_acc: 0.9667\n",
      "Epoch 102/120\n",
      "120/120 [==============================] - 0s 67us/step - loss: 0.0964 - acc: 0.9500 - val_loss: 0.0534 - val_acc: 1.0000\n",
      "Epoch 103/120\n",
      "120/120 [==============================] - 0s 67us/step - loss: 0.1043 - acc: 0.9583 - val_loss: 0.0929 - val_acc: 0.9667\n",
      "Epoch 104/120\n",
      "120/120 [==============================] - 0s 67us/step - loss: 0.1294 - acc: 0.9667 - val_loss: 0.0592 - val_acc: 1.0000\n",
      "Epoch 105/120\n",
      "120/120 [==============================] - 0s 67us/step - loss: 0.0864 - acc: 0.9500 - val_loss: 0.0530 - val_acc: 0.9667\n",
      "Epoch 106/120\n",
      "120/120 [==============================] - 0s 67us/step - loss: 0.0681 - acc: 0.9750 - val_loss: 0.0532 - val_acc: 1.0000\n",
      "Epoch 107/120\n",
      "120/120 [==============================] - 0s 58us/step - loss: 0.0707 - acc: 0.9750 - val_loss: 0.0612 - val_acc: 0.9667\n",
      "Epoch 108/120\n",
      "120/120 [==============================] - 0s 67us/step - loss: 0.0986 - acc: 0.9667 - val_loss: 0.0488 - val_acc: 1.0000\n",
      "Epoch 109/120\n",
      "120/120 [==============================] - 0s 67us/step - loss: 0.0806 - acc: 0.9667 - val_loss: 0.0549 - val_acc: 1.0000\n",
      "Epoch 110/120\n",
      "120/120 [==============================] - 0s 67us/step - loss: 0.0956 - acc: 0.9750 - val_loss: 0.0807 - val_acc: 0.9667\n",
      "Epoch 111/120\n",
      "120/120 [==============================] - 0s 58us/step - loss: 0.0839 - acc: 0.9750 - val_loss: 0.0648 - val_acc: 0.9667\n",
      "Epoch 112/120\n",
      "120/120 [==============================] - 0s 67us/step - loss: 0.0913 - acc: 0.9667 - val_loss: 0.0490 - val_acc: 0.9667\n",
      "Epoch 113/120\n",
      "120/120 [==============================] - 0s 58us/step - loss: 0.0977 - acc: 0.9500 - val_loss: 0.0501 - val_acc: 0.9667\n",
      "Epoch 114/120\n",
      "120/120 [==============================] - 0s 67us/step - loss: 0.0746 - acc: 0.9750 - val_loss: 0.0586 - val_acc: 1.0000\n",
      "Epoch 115/120\n",
      "120/120 [==============================] - 0s 67us/step - loss: 0.0626 - acc: 0.9750 - val_loss: 0.0509 - val_acc: 0.9667\n",
      "Epoch 116/120\n",
      "120/120 [==============================] - 0s 75us/step - loss: 0.0603 - acc: 0.9667 - val_loss: 0.0577 - val_acc: 1.0000\n",
      "Epoch 117/120\n",
      "120/120 [==============================] - 0s 67us/step - loss: 0.0726 - acc: 0.9500 - val_loss: 0.0597 - val_acc: 0.9667\n",
      "Epoch 118/120\n",
      "120/120 [==============================] - 0s 67us/step - loss: 0.1041 - acc: 0.9500 - val_loss: 0.0510 - val_acc: 1.0000\n",
      "Epoch 119/120\n",
      "120/120 [==============================] - 0s 75us/step - loss: 0.0593 - acc: 0.9833 - val_loss: 0.0661 - val_acc: 0.9667\n",
      "Epoch 120/120\n",
      "120/120 [==============================] - 0s 67us/step - loss: 0.1146 - acc: 0.9583 - val_loss: 0.1037 - val_acc: 0.9000\n"
     ]
    }
   ],
   "source": [
    "#instantiate \n",
    "model = Sequential()\n",
    "\n",
    "#creating network structure\n",
    "#hidden layer\n",
    "model.add(Dense(64, activation='relu'))\n",
    "#output layer\n",
    "model.add(Dense(3, activation='softmax'))\n",
    "\n",
    "#creating optimizer\n",
    "adam = optimizers.Adam(lr=0.10)\n",
    "model.compile(loss = 'categorical_crossentropy',\n",
    "              metrics=['accuracy'],\n",
    "             optimizer = adam)\n",
    "\n",
    "#early stopping is an addition to stop training once the testing error exceeds training as according to val_loss (the loss in the validation test set)\n",
    "\n",
    "#fit\n",
    "history = model.fit(X_train, y_train_cat, validation_data=(X_test, y_test_cat), \n",
    "                    epochs=120, \n",
    "                    batch_size = 16,\n",
    "                    verbose=1)"
   ]
  },
  {
   "cell_type": "code",
   "execution_count": 19,
   "metadata": {},
   "outputs": [
    {
     "data": {
      "image/png": "[encoded data removed]",
      "text/plain": [
       "<Figure size 432x288 with 1 Axes>"
      ]
     },
     "metadata": {},
     "output_type": "display_data"
    }
   ],
   "source": [
    "train_loss = history.history['loss']\n",
    "test_loss = history.history['val_loss']\n",
    "plt.plot(train_loss, label='Training loss')\n",
    "plt.plot(test_loss, label='Testing loss')\n",
    "#plt.xticks(history.epoch)\n",
    "plt.title('Loss')\n",
    "plt.grid()\n",
    "plt.legend();"
   ]
  },
  {
   "cell_type": "code",
   "execution_count": 20,
   "metadata": {},
   "outputs": [],
   "source": [
    "def plot_history():\n",
    "    train_loss = history.history['loss']\n",
    "    test_loss = history.history['val_loss']\n",
    "    plt.plot(train_loss, label='Training loss')\n",
    "    plt.plot(test_loss, label='Testing loss')\n",
    "    #plt.xticks(history.epoch)\n",
    "    plt.title('Loss')\n",
    "    plt.grid()\n",
    "    plt.legend()\n",
    "    return"
   ]
  },
  {
   "cell_type": "code",
   "execution_count": 21,
   "metadata": {},
   "outputs": [
    {
     "data": {
      "image/png": "[encoded data removed]",
      "text/plain": [
       "<Figure size 432x288 with 1 Axes>"
      ]
     },
     "metadata": {},
     "output_type": "display_data"
    }
   ],
   "source": [
    "plt.plot(history.history['acc']);"
   ]
  },
  {
   "cell_type": "code",
   "execution_count": 22,
   "metadata": {},
   "outputs": [
    {
     "name": "stdout",
     "output_type": "stream",
     "text": [
      "Train on 120 samples, validate on 30 samples\n",
      "Epoch 1/120\n",
      "120/120 [==============================] - 0s 2ms/step - loss: 1.0647 - acc: 0.5750 - val_loss: 0.6141 - val_acc: 0.8333\n",
      "Epoch 2/120\n",
      "120/120 [==============================] - 0s 67us/step - loss: 0.6278 - acc: 0.7333 - val_loss: 0.4829 - val_acc: 0.7000\n",
      "Epoch 3/120\n",
      "120/120 [==============================] - 0s 75us/step - loss: 0.4735 - acc: 0.7667 - val_loss: 0.4270 - val_acc: 0.8333\n",
      "Epoch 4/120\n",
      "120/120 [==============================] - 0s 75us/step - loss: 0.3865 - acc: 0.8833 - val_loss: 0.3323 - val_acc: 0.9667\n",
      "Epoch 5/120\n",
      "120/120 [==============================] - 0s 75us/step - loss: 0.3247 - acc: 0.9500 - val_loss: 0.2851 - val_acc: 0.9667\n",
      "Epoch 6/120\n",
      "120/120 [==============================] - 0s 67us/step - loss: 0.2853 - acc: 0.9583 - val_loss: 0.2518 - val_acc: 0.9667\n",
      "Epoch 7/120\n",
      "120/120 [==============================] - 0s 100us/step - loss: 0.2522 - acc: 0.9083 - val_loss: 0.3028 - val_acc: 0.8667\n",
      "Epoch 8/120\n",
      "120/120 [==============================] - 0s 75us/step - loss: 0.2583 - acc: 0.8750 - val_loss: 0.2590 - val_acc: 0.8333\n",
      "Epoch 9/120\n",
      "120/120 [==============================] - 0s 75us/step - loss: 0.2023 - acc: 0.9667 - val_loss: 0.1911 - val_acc: 0.9333\n",
      "Epoch 10/120\n",
      "120/120 [==============================] - 0s 67us/step - loss: 0.1830 - acc: 0.9583 - val_loss: 0.1690 - val_acc: 0.9667\n",
      "Epoch 11/120\n",
      "120/120 [==============================] - 0s 75us/step - loss: 0.1742 - acc: 0.9500 - val_loss: 0.1477 - val_acc: 0.9667\n",
      "Epoch 12/120\n",
      "120/120 [==============================] - 0s 67us/step - loss: 0.1477 - acc: 0.9667 - val_loss: 0.1450 - val_acc: 0.9667\n",
      "Epoch 13/120\n",
      "120/120 [==============================] - 0s 75us/step - loss: 0.1419 - acc: 0.9583 - val_loss: 0.1277 - val_acc: 0.9667\n",
      "Epoch 14/120\n",
      "120/120 [==============================] - 0s 67us/step - loss: 0.1271 - acc: 0.9750 - val_loss: 0.1249 - val_acc: 1.0000\n",
      "Epoch 15/120\n",
      "120/120 [==============================] - 0s 75us/step - loss: 0.1268 - acc: 0.9750 - val_loss: 0.1338 - val_acc: 0.9333\n",
      "Epoch 16/120\n",
      "120/120 [==============================] - 0s 67us/step - loss: 0.1179 - acc: 0.9583 - val_loss: 0.1074 - val_acc: 0.9667\n",
      "Epoch 17/120\n",
      "120/120 [==============================] - 0s 75us/step - loss: 0.1166 - acc: 0.9667 - val_loss: 0.1033 - val_acc: 1.0000\n",
      "Epoch 18/120\n",
      "120/120 [==============================] - 0s 108us/step - loss: 0.1277 - acc: 0.9667 - val_loss: 0.0993 - val_acc: 0.9667\n",
      "Epoch 19/120\n",
      "120/120 [==============================] - 0s 108us/step - loss: 0.1140 - acc: 0.9500 - val_loss: 0.0951 - val_acc: 1.0000\n",
      "Epoch 20/120\n",
      "120/120 [==============================] - 0s 108us/step - loss: 0.1038 - acc: 0.9667 - val_loss: 0.1184 - val_acc: 0.9333\n",
      "Epoch 21/120\n",
      "120/120 [==============================] - 0s 75us/step - loss: 0.1232 - acc: 0.9500 - val_loss: 0.1182 - val_acc: 0.9333\n",
      "Epoch 22/120\n",
      "120/120 [==============================] - 0s 67us/step - loss: 0.1186 - acc: 0.9333 - val_loss: 0.0909 - val_acc: 0.9667\n",
      "Epoch 23/120\n",
      "120/120 [==============================] - 0s 67us/step - loss: 0.0999 - acc: 0.9750 - val_loss: 0.1129 - val_acc: 0.9333\n",
      "Epoch 24/120\n",
      "120/120 [==============================] - 0s 67us/step - loss: 0.0869 - acc: 0.9667 - val_loss: 0.0870 - val_acc: 0.9667\n",
      "Epoch 25/120\n",
      "120/120 [==============================] - 0s 75us/step - loss: 0.0881 - acc: 0.9833 - val_loss: 0.1173 - val_acc: 0.9333\n",
      "Epoch 26/120\n",
      "120/120 [==============================] - 0s 67us/step - loss: 0.0866 - acc: 0.9750 - val_loss: 0.0779 - val_acc: 0.9667\n",
      "Epoch 27/120\n",
      "120/120 [==============================] - 0s 75us/step - loss: 0.0804 - acc: 0.9667 - val_loss: 0.0830 - val_acc: 1.0000\n",
      "Epoch 28/120\n",
      "120/120 [==============================] - 0s 75us/step - loss: 0.0775 - acc: 0.9750 - val_loss: 0.0799 - val_acc: 0.9667\n",
      "Epoch 29/120\n",
      "120/120 [==============================] - 0s 67us/step - loss: 0.0987 - acc: 0.9583 - val_loss: 0.1748 - val_acc: 0.9000\n",
      "Epoch 30/120\n",
      "120/120 [==============================] - 0s 75us/step - loss: 0.1173 - acc: 0.9500 - val_loss: 0.0738 - val_acc: 0.9667\n",
      "Epoch 31/120\n",
      "120/120 [==============================] - 0s 67us/step - loss: 0.0709 - acc: 0.9833 - val_loss: 0.0971 - val_acc: 0.9667\n",
      "Epoch 32/120\n",
      "120/120 [==============================] - 0s 58us/step - loss: 0.1058 - acc: 0.9500 - val_loss: 0.0921 - val_acc: 0.9667\n",
      "Epoch 33/120\n",
      "120/120 [==============================] - 0s 67us/step - loss: 0.0847 - acc: 0.9667 - val_loss: 0.0939 - val_acc: 0.9667\n",
      "Epoch 34/120\n",
      "120/120 [==============================] - 0s 67us/step - loss: 0.0949 - acc: 0.9583 - val_loss: 0.2101 - val_acc: 0.9000\n",
      "Epoch 35/120\n",
      "120/120 [==============================] - 0s 75us/step - loss: 0.1187 - acc: 0.9583 - val_loss: 0.0936 - val_acc: 0.9667\n",
      "Epoch 36/120\n",
      "120/120 [==============================] - 0s 75us/step - loss: 0.1005 - acc: 0.9583 - val_loss: 0.0850 - val_acc: 1.0000\n"
     ]
    }
   ],
   "source": [
    "#instantiate \n",
    "model = Sequential()\n",
    "\n",
    "#creating network structure\n",
    "#hidden layer\n",
    "model.add(Dense(64, activation='relu'))\n",
    "#output layer\n",
    "model.add(Dense(3, activation='softmax'))\n",
    "\n",
    "#creating optimizer\n",
    "adam = optimizers.Adam(lr=0.01)\n",
    "model.compile(loss = 'categorical_crossentropy',\n",
    "              metrics=['accuracy'],\n",
    "             optimizer = adam)\n",
    "\n",
    "#early stopping is an addition to stop training once the testing error exceeds training as according to val_loss (the loss in the validation test set)\n",
    "early_stop = EarlyStopping(monitor='val_loss', min_delta=0.01, patience=10, mode='auto')\n",
    "callbacks_list = [early_stop]\n",
    "\n",
    "#fit\n",
    "history = model.fit(X_train, y_train_cat, validation_data=(X_test, y_test_cat), \n",
    "                    epochs=120,\n",
    "                    batch_size=16,\n",
    "                    callbacks=callbacks_list, \n",
    "                    verbose=1)"
   ]
  },
  {
   "cell_type": "code",
   "execution_count": 23,
   "metadata": {},
   "outputs": [
    {
     "data": {
      "image/png": "[encoded data removed]",
      "text/plain": [
       "<Figure size 432x288 with 1 Axes>"
      ]
     },
     "metadata": {},
     "output_type": "display_data"
    }
   ],
   "source": [
    "plot_history()"
   ]
  },
  {
   "cell_type": "code",
   "execution_count": 24,
   "metadata": {},
   "outputs": [
    {
     "data": {
      "image/png": "[encoded data removed]",
      "text/plain": [
       "<Figure size 432x288 with 1 Axes>"
      ]
     },
     "metadata": {},
     "output_type": "display_data"
    }
   ],
   "source": [
    "plt.plot(history.history['acc']);"
   ]
  },
  {
   "cell_type": "code",
   "execution_count": null,
   "metadata": {},
   "outputs": [],
   "source": []
  },
  {
   "cell_type": "code",
   "execution_count": 26,
   "metadata": {},
   "outputs": [],
   "source": [
    "pred=model.predict(X_test)"
   ]
  },
  {
   "cell_type": "code",
   "execution_count": 27,
   "metadata": {},
   "outputs": [],
   "source": [
    "from sklearn.metrics import accuracy_score"
   ]
  },
  {
   "cell_type": "code",
   "execution_count": 29,
   "metadata": {},
   "outputs": [
    {
     "data": {
      "text/plain": [
       "array([1, 0, 2, 1, 1, 0, 1, 2, 1, 1, 2, 0, 0, 0, 0, 1, 2, 1, 1, 2, 0, 2,\n",
       "       0, 2, 2, 2, 2, 2, 0, 0])"
      ]
     },
     "execution_count": 29,
     "metadata": {},
     "output_type": "execute_result"
    }
   ],
   "source": [
    "y_test"
   ]
  },
  {
   "cell_type": "code",
   "execution_count": null,
   "metadata": {},
   "outputs": [],
   "source": []
  },
  {
   "cell_type": "code",
   "execution_count": 36,
   "metadata": {},
   "outputs": [
    {
     "name": "stdout",
     "output_type": "stream",
     "text": [
      "\r",
      "30/30 [==============================] - 0s 33us/step\n"
     ]
    }
   ],
   "source": [
    "score = model.evaluate(X_test,y_test_cat)"
   ]
  },
  {
   "cell_type": "code",
   "execution_count": 40,
   "metadata": {},
   "outputs": [
    {
     "name": "stdout",
     "output_type": "stream",
     "text": [
      "Loss : 0.08498851954936981\n",
      "Accuracy : 1.0\n"
     ]
    }
   ],
   "source": [
    "print('Loss : {}\\nAccuracy : {}'.format(score[0],score[1]))"
   ]
  },
  {
   "cell_type": "code",
   "execution_count": null,
   "metadata": {},
   "outputs": [],
   "source": [
    "s"
   ]
  },
  {
   "cell_type": "code",
   "execution_count": 28,
   "metadata": {},
   "outputs": [
    {
     "ename": "ValueError",
     "evalue": "Classification metrics can't handle a mix of multiclass and continuous-multioutput targets",
     "output_type": "error",
     "traceback": [
      "\u001b[1;31m---------------------------------------------------------------------------\u001b[0m",
      "\u001b[1;31mValueError\u001b[0m                                Traceback (most recent call last)",
      "\u001b[1;32m<ipython-input-28-19cc511cba74>\u001b[0m in \u001b[0;36m<module>\u001b[1;34m()\u001b[0m\n\u001b[1;32m----> 1\u001b[1;33m \u001b[0maccuracy_score\u001b[0m\u001b[1;33m(\u001b[0m\u001b[0my_test\u001b[0m\u001b[1;33m,\u001b[0m\u001b[0mpred\u001b[0m\u001b[1;33m)\u001b[0m\u001b[1;33m\u001b[0m\u001b[0m\n\u001b[0m",
      "\u001b[1;32m~\\AppData\\Local\\Continuum\\anaconda3\\lib\\site-packages\\sklearn\\metrics\\classification.py\u001b[0m in \u001b[0;36maccuracy_score\u001b[1;34m(y_true, y_pred, normalize, sample_weight)\u001b[0m\n\u001b[0;32m    174\u001b[0m \u001b[1;33m\u001b[0m\u001b[0m\n\u001b[0;32m    175\u001b[0m     \u001b[1;31m# Compute accuracy for each possible representation\u001b[0m\u001b[1;33m\u001b[0m\u001b[1;33m\u001b[0m\u001b[0m\n\u001b[1;32m--> 176\u001b[1;33m     \u001b[0my_type\u001b[0m\u001b[1;33m,\u001b[0m \u001b[0my_true\u001b[0m\u001b[1;33m,\u001b[0m \u001b[0my_pred\u001b[0m \u001b[1;33m=\u001b[0m \u001b[0m_check_targets\u001b[0m\u001b[1;33m(\u001b[0m\u001b[0my_true\u001b[0m\u001b[1;33m,\u001b[0m \u001b[0my_pred\u001b[0m\u001b[1;33m)\u001b[0m\u001b[1;33m\u001b[0m\u001b[0m\n\u001b[0m\u001b[0;32m    177\u001b[0m     \u001b[1;32mif\u001b[0m \u001b[0my_type\u001b[0m\u001b[1;33m.\u001b[0m\u001b[0mstartswith\u001b[0m\u001b[1;33m(\u001b[0m\u001b[1;34m'multilabel'\u001b[0m\u001b[1;33m)\u001b[0m\u001b[1;33m:\u001b[0m\u001b[1;33m\u001b[0m\u001b[0m\n\u001b[0;32m    178\u001b[0m         \u001b[0mdiffering_labels\u001b[0m \u001b[1;33m=\u001b[0m \u001b[0mcount_nonzero\u001b[0m\u001b[1;33m(\u001b[0m\u001b[0my_true\u001b[0m \u001b[1;33m-\u001b[0m \u001b[0my_pred\u001b[0m\u001b[1;33m,\u001b[0m \u001b[0maxis\u001b[0m\u001b[1;33m=\u001b[0m\u001b[1;36m1\u001b[0m\u001b[1;33m)\u001b[0m\u001b[1;33m\u001b[0m\u001b[0m\n",
      "\u001b[1;32m~\\AppData\\Local\\Continuum\\anaconda3\\lib\\site-packages\\sklearn\\metrics\\classification.py\u001b[0m in \u001b[0;36m_check_targets\u001b[1;34m(y_true, y_pred)\u001b[0m\n\u001b[0;32m     79\u001b[0m     \u001b[1;32mif\u001b[0m \u001b[0mlen\u001b[0m\u001b[1;33m(\u001b[0m\u001b[0my_type\u001b[0m\u001b[1;33m)\u001b[0m \u001b[1;33m>\u001b[0m \u001b[1;36m1\u001b[0m\u001b[1;33m:\u001b[0m\u001b[1;33m\u001b[0m\u001b[0m\n\u001b[0;32m     80\u001b[0m         raise ValueError(\"Classification metrics can't handle a mix of {0} \"\n\u001b[1;32m---> 81\u001b[1;33m                          \"and {1} targets\".format(type_true, type_pred))\n\u001b[0m\u001b[0;32m     82\u001b[0m \u001b[1;33m\u001b[0m\u001b[0m\n\u001b[0;32m     83\u001b[0m     \u001b[1;31m# We can't have more than one value on y_type => The set is no more needed\u001b[0m\u001b[1;33m\u001b[0m\u001b[1;33m\u001b[0m\u001b[0m\n",
      "\u001b[1;31mValueError\u001b[0m: Classification metrics can't handle a mix of multiclass and continuous-multioutput targets"
     ]
    }
   ],
   "source": [
    "accuracy_score(y_test,pred)"
   ]
  },
  {
   "cell_type": "markdown",
   "metadata": {},
   "source": [
    "### Types of Neural Networks\n",
    "- LSTM RNN\n",
    "- MLP\n",
    "- Autoencoder\n",
    "- CNN\n",
    "- Capsule \n",
    "... and many more"
   ]
  },
  {
   "cell_type": "code",
   "execution_count": null,
   "metadata": {},
   "outputs": [],
   "source": []
  }
 ],
 "metadata": {
  "kernelspec": {
   "display_name": "Python 3",
   "language": "python",
   "name": "python3"
  },
  "language_info": {
   "codemirror_mode": {
    "name": "ipython",
    "version": 3
   },
   "file_extension": ".py",
   "mimetype": "text/x-python",
   "name": "python",
   "nbconvert_exporter": "python",
   "pygments_lexer": "ipython3",
   "version": "3.6.5"
  }
 },
 "nbformat": 4,
 "nbformat_minor": 2
}
